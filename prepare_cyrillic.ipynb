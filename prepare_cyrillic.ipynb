{
 "cells": [
  {
   "cell_type": "code",
   "execution_count": null,
   "metadata": {},
   "outputs": [],
   "source": [
    "import os\n",
    "from collections import defaultdict "
   ]
  },
  {
   "cell_type": "code",
   "execution_count": null,
   "metadata": {},
   "outputs": [],
   "source": [
    "text_files = [file for file in os.listdir('cyrillic_text') if file.endswith('.txt')]\n",
    "   "
   ]
  },
  {
   "cell_type": "code",
   "execution_count": null,
   "metadata": {},
   "outputs": [],
   "source": [
    "len(text_files)"
   ]
  },
  {
   "cell_type": "code",
   "execution_count": null,
   "metadata": {},
   "outputs": [],
   "source": [
    "alphabet = set( [chr(char_code) for char_code in range(0x0400, 0x04FF + 1)])\n"
   ]
  },
  {
   "cell_type": "code",
   "execution_count": null,
   "metadata": {},
   "outputs": [],
   "source": [
    "def get_words(filepath) :\n",
    "    \n",
    "    word_dict = defaultdict(int)\n",
    "    \n",
    "    with open(filepath, 'r', encoding='utf-8') as f :\n",
    "        data = f.readlines()\n",
    "    \n",
    "\n",
    "    for item in data :\n",
    "        cur = ''\n",
    "        for ch in item :\n",
    "            if ch not in alphabet :\n",
    "                if len(cur) > 0 :\n",
    "                    if not cur.startswith('ҳттпс') :\n",
    "                        word_dict[cur.lower()] += 1\n",
    "                cur = ''\n",
    "            else : \n",
    "                cur += ch\n",
    "            \n",
    "        if len(cur) > 0 and not cur.startswith('ҳттпс'):\n",
    "            word_dict[cur.lower()] += 1\n",
    "\n",
    "\n",
    "    return word_dict\n",
    "\n"
   ]
  },
  {
   "cell_type": "code",
   "execution_count": null,
   "metadata": {},
   "outputs": [],
   "source": [
    "get_words('cyrillic_text/chunk_0.txt')"
   ]
  },
  {
   "cell_type": "code",
   "execution_count": null,
   "metadata": {},
   "outputs": [],
   "source": [
    "result_dict = defaultdict(int)"
   ]
  },
  {
   "cell_type": "code",
   "execution_count": null,
   "metadata": {},
   "outputs": [],
   "source": [
    "for index, filename in  enumerate(text_files) :\n",
    "    print(index, filename)\n",
    "    cur_dict = get_words('cyrillic_text/' + filename)\n",
    "\n",
    "    for word in cur_dict.keys() :\n",
    "        result_dict[word] += cur_dict[word]"
   ]
  },
  {
   "cell_type": "code",
   "execution_count": null,
   "metadata": {},
   "outputs": [],
   "source": [
    "print(len(result_dict))"
   ]
  },
  {
   "cell_type": "code",
   "execution_count": null,
   "metadata": {},
   "outputs": [],
   "source": [
    "result_dict"
   ]
  },
  {
   "cell_type": "code",
   "execution_count": null,
   "metadata": {},
   "outputs": [],
   "source": [
    "words_all = sorted(result_dict.keys())"
   ]
  },
  {
   "cell_type": "code",
   "execution_count": null,
   "metadata": {},
   "outputs": [],
   "source": [
    "words_all"
   ]
  },
  {
   "cell_type": "code",
   "execution_count": null,
   "metadata": {},
   "outputs": [],
   "source": [
    "for (index, key) in enumerate(words_all) :\n",
    "    id = index // 1000\n",
    "    print(index)\n",
    "    with open(f'cyrillic_dict2/chunk_{id}.csv', 'a', encoding='utf-8') as f:\n",
    "        f.write(str(key) + ',' + str(result_dict[key]) + '\\n')\n",
    "    "
   ]
  },
  {
   "cell_type": "code",
   "execution_count": null,
   "metadata": {},
   "outputs": [],
   "source": []
  }
 ],
 "metadata": {
  "kernelspec": {
   "display_name": "venv",
   "language": "python",
   "name": "python3"
  },
  "language_info": {
   "codemirror_mode": {
    "name": "ipython",
    "version": 3
   },
   "file_extension": ".py",
   "mimetype": "text/x-python",
   "name": "python",
   "nbconvert_exporter": "python",
   "pygments_lexer": "ipython3",
   "version": "3.10.12"
  }
 },
 "nbformat": 4,
 "nbformat_minor": 2
}
