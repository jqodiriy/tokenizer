{
 "cells": [
  {
   "cell_type": "code",
   "execution_count": null,
   "id": "initial_id",
   "metadata": {
    "collapsed": true
   },
   "outputs": [],
   "source": [
    "import json"
   ]
  },
  {
   "cell_type": "code",
   "outputs": [],
   "source": [
    "import requests"
   ],
   "metadata": {
    "collapsed": false
   },
   "id": "ff4c322e544fa89f",
   "execution_count": null
  },
  {
   "cell_type": "code",
   "outputs": [],
   "source": [
    "response = requests.get('https://datasets-server.huggingface.co/rows?dataset=tahrirchi%2Fuz-crawl&config=default&split=news&offset=0&length=100')"
   ],
   "metadata": {
    "collapsed": false
   },
   "id": "48fcef622863c047",
   "execution_count": null
  },
  {
   "cell_type": "code",
   "outputs": [],
   "source": [
    "response"
   ],
   "metadata": {
    "collapsed": false
   },
   "id": "1dc068068f637c2b",
   "execution_count": null
  },
  {
   "cell_type": "code",
   "outputs": [],
   "source": [
    "response.text"
   ],
   "metadata": {
    "collapsed": false
   },
   "id": "a2680a478b2935bb",
   "execution_count": null
  },
  {
   "cell_type": "code",
   "outputs": [],
   "source": [
    "!pwd"
   ],
   "metadata": {
    "collapsed": false
   },
   "id": "51725bbac1a56ab3",
   "execution_count": null
  },
  {
   "cell_type": "code",
   "outputs": [],
   "source": [
    "for i in range(4144, 4145) :\n",
    "    offset = i * 100\n",
    "    data = requests.get(f'https://datasets-server.huggingface.co/rows?dataset=tahrirchi%2Fuz-crawl&config=default&split=news&offset={offset}&length=100')\n",
    "    \n",
    "    # with open('tahrirchi-news.json', 'a') as f :\n",
    "    #     f.write(data.text)\n",
    "    with open('dataset/chunk_'+str(i)+'.json', 'a') as f :\n",
    "        f.write(data.text)\n",
    "    print(i, data.status_code)\n",
    "    "
   ],
   "metadata": {
    "collapsed": false
   },
   "id": "304242d619ec9104",
   "execution_count": null
  },
  {
   "cell_type": "code",
   "outputs": [],
   "source": [],
   "metadata": {
    "collapsed": false
   },
   "id": "fe7163e4b8972549",
   "execution_count": null
  }
 ],
 "metadata": {
  "kernelspec": {
   "display_name": "Python 3",
   "language": "python",
   "name": "python3"
  },
  "language_info": {
   "codemirror_mode": {
    "name": "ipython",
    "version": 2
   },
   "file_extension": ".py",
   "mimetype": "text/x-python",
   "name": "python",
   "nbconvert_exporter": "python",
   "pygments_lexer": "ipython2",
   "version": "2.7.6"
  }
 },
 "nbformat": 4,
 "nbformat_minor": 5
}
