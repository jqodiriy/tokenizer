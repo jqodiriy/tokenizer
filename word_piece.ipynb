{
 "cells": [
  {
   "cell_type": "code",
   "execution_count": null,
   "id": "initial_id",
   "metadata": {
    "collapsed": true
   },
   "outputs": [],
   "source": [
    "    # !wget http://www.gutenberg.org/cache/epub/16457/pg16457.txt"
   ]
  },
  {
   "cell_type": "code",
   "outputs": [],
   "source": [
    "corpus = []"
   ],
   "metadata": {
    "collapsed": false
   },
   "id": "2f5a01a3a29cc580",
   "execution_count": null
  },
  {
   "cell_type": "code",
   "outputs": [],
   "source": [
    "from collections import defaultdict"
   ],
   "metadata": {
    "collapsed": false
   },
   "id": "a8ac8c7bd31f7e4f",
   "execution_count": null
  },
  {
   "cell_type": "code",
   "outputs": [],
   "source": [
    "with open('pg16457.txt', 'r') as f:\n",
    "    text = ' '.join(f.readlines())"
   ],
   "metadata": {
    "collapsed": false
   },
   "id": "51cfd2bab6e68f3",
   "execution_count": null
  },
  {
   "cell_type": "code",
   "outputs": [],
   "source": [
    "corpus = text.split(' ')"
   ],
   "metadata": {
    "collapsed": false
   },
   "id": "8b941fe9c2d061c1",
   "execution_count": null
  },
  {
   "cell_type": "code",
   "outputs": [],
   "source": [
    "len(corpus)"
   ],
   "metadata": {
    "collapsed": false
   },
   "id": "ad41341b00f097b5",
   "execution_count": null
  },
  {
   "cell_type": "code",
   "outputs": [],
   "source": [
    "def refactor(text):\n",
    "    not_allowed = \"\"\"\\\\-\"_.•-—‘’',“”~@#[]%{}?°1234567890;!^/&*()_=+\\n\"\"\"\n",
    "    return ''.join(str(c) for c in text if not not_allowed.__contains__(c))"
   ],
   "metadata": {
    "collapsed": false
   },
   "id": "a48386ebbc8c1bc",
   "execution_count": null
  },
  {
   "cell_type": "code",
   "outputs": [],
   "source": [
    "corpus = [refactor(text) for text in corpus]"
   ],
   "metadata": {
    "collapsed": false
   },
   "id": "9553808458128b5d",
   "execution_count": null
  },
  {
   "cell_type": "code",
   "outputs": [],
   "source": [
    "corpus = [text.lower() for text in corpus if len(text) > 0]"
   ],
   "metadata": {
    "collapsed": false
   },
   "id": "df50902b80ac2edd",
   "execution_count": null
  },
  {
   "cell_type": "code",
   "outputs": [],
   "source": [
    "corpus_dict = dict()"
   ],
   "metadata": {
    "collapsed": false
   },
   "id": "ddb573ab74d67139",
   "execution_count": null
  },
  {
   "cell_type": "code",
   "outputs": [],
   "source": [
    "for text in corpus:\n",
    "    if corpus_dict.__contains__(text):\n",
    "        corpus_dict[text] += 1\n",
    "    else:\n",
    "        corpus_dict[text] = 1"
   ],
   "metadata": {
    "collapsed": false
   },
   "id": "a93fc707a8904456",
   "execution_count": null
  },
  {
   "cell_type": "code",
   "outputs": [],
   "source": [
    "len(corpus_dict)"
   ],
   "metadata": {
    "collapsed": false
   },
   "id": "15ecea2d6bba774f",
   "execution_count": null
  },
  {
   "cell_type": "code",
   "outputs": [],
   "source": [
    "corpus.sort()"
   ],
   "metadata": {
    "collapsed": false
   },
   "id": "d53c2296978d1241",
   "execution_count": null
  },
  {
   "cell_type": "code",
   "outputs": [],
   "source": [
    "len(corpus)"
   ],
   "metadata": {
    "collapsed": false
   },
   "id": "32743723b06abf26",
   "execution_count": null
  },
  {
   "cell_type": "code",
   "outputs": [],
   "source": [
    "word_freqs = defaultdict(int)"
   ],
   "metadata": {
    "collapsed": false
   },
   "id": "a57a8615be0aff3b",
   "execution_count": null
  },
  {
   "cell_type": "code",
   "outputs": [],
   "source": [
    "for text in corpus:\n",
    "    word_freqs[text] += 1"
   ],
   "metadata": {
    "collapsed": false
   },
   "id": "9b6b425fb37c238",
   "execution_count": null
  },
  {
   "cell_type": "code",
   "outputs": [],
   "source": [
    "print(word_freqs)"
   ],
   "metadata": {
    "collapsed": false
   },
   "id": "78b5f8254ea8895e",
   "execution_count": null
  },
  {
   "cell_type": "code",
   "outputs": [],
   "source": [
    "print(corpus_dict)"
   ],
   "metadata": {
    "collapsed": false
   },
   "id": "e1526e38b3af14b2",
   "execution_count": null
  },
  {
   "cell_type": "code",
   "outputs": [],
   "source": [
    "print(len(word_freqs.keys()))"
   ],
   "metadata": {
    "collapsed": false
   },
   "id": "4595fa0259384d97",
   "execution_count": null
  },
  {
   "cell_type": "code",
   "outputs": [],
   "source": [
    "print(word_freqs['unsolicited'])"
   ],
   "metadata": {
    "collapsed": false
   },
   "id": "51b7a3eb8576a7b1",
   "execution_count": null
  },
  {
   "cell_type": "code",
   "outputs": [],
   "source": [
    "cnt = 0\n",
    "for text in word_freqs.keys():\n",
    "    if word_freqs[text] != corpus_dict[text]:\n",
    "        print(text, 'wf', word_freqs[text], 'cd', corpus_dict[text])\n",
    "    else:\n",
    "        cnt += 1"
   ],
   "metadata": {
    "collapsed": false
   },
   "id": "2fef4309c62ae81b",
   "execution_count": null
  },
  {
   "cell_type": "code",
   "outputs": [],
   "source": [
    "print(cnt)"
   ],
   "metadata": {
    "collapsed": false
   },
   "id": "bbd5c4bc09596d26",
   "execution_count": null
  },
  {
   "cell_type": "code",
   "outputs": [],
   "source": [
    "alphabet = []"
   ],
   "metadata": {
    "collapsed": false
   },
   "id": "3fb5eff31fa8342a",
   "execution_count": null
  },
  {
   "cell_type": "code",
   "outputs": [],
   "source": [
    "for word in word_freqs.keys():\n",
    "    if word[0] not in alphabet:\n",
    "        alphabet.append(word[0])\n",
    "    for letter in word[1:]:\n",
    "        if f\"##{letter}\" not in alphabet:\n",
    "            alphabet.append(f\"##{letter}\")\n",
    "\n",
    "alphabet.sort()\n",
    "\n",
    "print(alphabet)"
   ],
   "metadata": {
    "collapsed": false
   },
   "id": "4aa4e64cebf689e7",
   "execution_count": null
  },
  {
   "cell_type": "code",
   "outputs": [],
   "source": [
    "len(alphabet)\n"
   ],
   "metadata": {
    "collapsed": false
   },
   "id": "2c86554a49c07b12",
   "execution_count": null
  },
  {
   "cell_type": "code",
   "outputs": [],
   "source": [
    "vocab = [\"[PAD]\", \"[UNK]\", \"[CLS]\", \"[SEP]\", \"[MASK]\"] + alphabet.copy()"
   ],
   "metadata": {
    "collapsed": false
   },
   "id": "f23f600f840c90eb",
   "execution_count": null
  },
  {
   "cell_type": "code",
   "outputs": [],
   "source": [
    "print(vocab)"
   ],
   "metadata": {
    "collapsed": false
   },
   "id": "eb03e6c5a70f425d",
   "execution_count": null
  },
  {
   "cell_type": "code",
   "outputs": [],
   "source": [
    "splits = {\n",
    "    word: [c if i == 0 else f\"##{c}\" for i, c in enumerate(word)]\n",
    "    for word in word_freqs.keys()\n",
    "}"
   ],
   "metadata": {
    "collapsed": false
   },
   "id": "1063117f89069a8c",
   "execution_count": null
  },
  {
   "cell_type": "code",
   "outputs": [],
   "source": [
    "print(splits)"
   ],
   "metadata": {
    "collapsed": false
   },
   "id": "3077d63da1ee447b",
   "execution_count": null
  },
  {
   "cell_type": "code",
   "outputs": [],
   "source": [
    "def compute_pair_scores(splits):\n",
    "    letter_freqs = defaultdict(int)\n",
    "    pair_freqs = defaultdict(int)\n",
    "    for word, freq in word_freqs.items():\n",
    "        split = splits[word]\n",
    "        if len(split) == 1:\n",
    "            letter_freqs[split[0]] += freq\n",
    "            continue\n",
    "        for i in range(len(split) - 1):\n",
    "            pair = (split[i], split[i + 1])\n",
    "            letter_freqs[split[i]] += freq\n",
    "            pair_freqs[pair] += freq\n",
    "        letter_freqs[split[-1]] += freq\n",
    "\n",
    "    scores = {\n",
    "        pair: freq / (letter_freqs[pair[0]] * letter_freqs[pair[1]])\n",
    "        for pair, freq in pair_freqs.items()\n",
    "    }\n",
    "    return scores"
   ],
   "metadata": {
    "collapsed": false
   },
   "id": "669e07744b992eea",
   "execution_count": null
  },
  {
   "cell_type": "code",
   "outputs": [],
   "source": [
    "pair_scores = compute_pair_scores(splits)\n",
    "\n",
    "for i, key in enumerate(pair_scores.keys()):\n",
    "    print(f\"{key}: {pair_scores[key]}\")\n",
    "    if i >= 5:\n",
    "        break"
   ],
   "metadata": {
    "collapsed": false
   },
   "id": "55be9007bf512134",
   "execution_count": null
  },
  {
   "cell_type": "code",
   "outputs": [],
   "source": [
    "def get_best_pair(pair_scores):\n",
    "    best_pair = \"\"\n",
    "    best_score = None\n",
    "\n",
    "    for pair, score in pair_scores.items():\n",
    "        if best_score is None or best_pair < score:\n",
    "            best_score = pair\n",
    "            best_pair = score\n",
    "    return best_pair, best_score\n"
   ],
   "metadata": {
    "collapsed": false
   },
   "id": "b4fe243f8ef8fd81",
   "execution_count": null
  },
  {
   "cell_type": "code",
   "outputs": [],
   "source": [
    "print(splits)"
   ],
   "metadata": {
    "collapsed": false
   },
   "id": "56ef3e17cca97870",
   "execution_count": null
  },
  {
   "cell_type": "code",
   "outputs": [],
   "source": [
    "def merge_pair(a, b, splits):\n",
    "    for word in word_freqs:\n",
    "        split = splits[word]\n",
    "        if len(split) == 1:\n",
    "            continue\n",
    "        i = 0\n",
    "        while i < len(split) - 1:\n",
    "            if split[i] == a and split[i + 1] == b:\n",
    "                merge = a + b[2:] if b.startswith(\"##\") else a + b\n",
    "                split = split[:i] + [merge] + split[i + 2 :]\n",
    "            else:\n",
    "                i += 1\n",
    "        splits[word] = split\n",
    "    return splits"
   ],
   "metadata": {
    "collapsed": false
   },
   "id": "8606de93c2557964",
   "execution_count": null
  },
  {
   "cell_type": "code",
   "outputs": [],
   "source": [
    "print(vocab)"
   ],
   "metadata": {
    "collapsed": false
   },
   "id": "c60a3253ba6ddcbd",
   "execution_count": null
  },
  {
   "cell_type": "code",
   "outputs": [],
   "source": [
    "print(compute_pair_scores(splits))"
   ],
   "metadata": {
    "collapsed": false
   },
   "id": "23792743436acb69",
   "execution_count": null
  },
  {
   "cell_type": "code",
   "outputs": [],
   "source": [
    "get_best_pair(compute_pair_scores(splits))"
   ],
   "metadata": {
    "collapsed": false
   },
   "id": "6aa6b4c9fefeb087",
   "execution_count": null
  },
  {
   "cell_type": "code",
   "outputs": [],
   "source": [
    "splits = merge_pair(\"a\", \"##b\", splits)\n",
    "splits[\"about\"]"
   ],
   "metadata": {
    "collapsed": false
   },
   "id": "75fd46da3e4df2a2",
   "execution_count": null
  },
  {
   "cell_type": "code",
   "outputs": [],
   "source": [
    "vocab_size = 1000"
   ],
   "metadata": {
    "collapsed": false
   },
   "id": "ee1b80af0795d220",
   "execution_count": null
  },
  {
   "cell_type": "code",
   "outputs": [],
   "source": [
    "print(len(vocab))"
   ],
   "metadata": {
    "collapsed": false
   },
   "id": "35e6199e860d53b0",
   "execution_count": null
  },
  {
   "cell_type": "code",
   "outputs": [],
   "source": [
    "while len(vocab) < vocab_size:\n",
    "    scores = compute_pair_scores(splits)\n",
    "    best_pair, max_score = \"\", None\n",
    "    for pair, score in scores.items():\n",
    "        if max_score is None or max_score < score:\n",
    "            best_pair = pair\n",
    "            max_score = score\n",
    "    splits = merge_pair(*best_pair, splits)\n",
    "    new_token = (\n",
    "        best_pair[0] + best_pair[1][2:]\n",
    "        if best_pair[1].startswith(\"##\")\n",
    "        else best_pair[0] + best_pair[1]\n",
    "    )\n",
    "    print(best_pair[0] + best_pair[1][2:])\n",
    "    vocab.append(new_token)"
   ],
   "metadata": {
    "collapsed": false
   },
   "id": "89dbbaa119bd5115",
   "execution_count": null
  },
  {
   "cell_type": "code",
   "outputs": [],
   "source": [
    "print(splits)"
   ],
   "metadata": {
    "collapsed": false,
    "ExecuteTime": {
     "start_time": "2024-02-26T12:38:12.663223Z"
    }
   },
   "id": "ee8ba231f9e2d97",
   "execution_count": null
  },
  {
   "cell_type": "code",
   "outputs": [],
   "source": [
    "vocab"
   ],
   "metadata": {
    "collapsed": false,
    "ExecuteTime": {
     "start_time": "2024-02-26T12:38:12.672269Z"
    }
   },
   "id": "48c13642a747d075",
   "execution_count": null
  },
  {
   "cell_type": "code",
   "outputs": [],
   "source": [
    "vocab.sort()"
   ],
   "metadata": {
    "collapsed": false,
    "ExecuteTime": {
     "start_time": "2024-02-26T12:38:12.679044Z"
    }
   },
   "id": "96da96fcd3165095",
   "execution_count": null
  },
  {
   "cell_type": "code",
   "outputs": [],
   "source": [
    "print(vocab)"
   ],
   "metadata": {
    "collapsed": false,
    "ExecuteTime": {
     "start_time": "2024-02-26T12:38:12.681205Z"
    }
   },
   "id": "8a9d14b99d46691",
   "execution_count": null
  },
  {
   "cell_type": "code",
   "outputs": [],
   "source": [
    "splits"
   ],
   "metadata": {
    "collapsed": false,
    "ExecuteTime": {
     "start_time": "2024-02-26T12:38:12.683440Z"
    }
   },
   "id": "ad741f629a7885c3",
   "execution_count": null
  },
  {
   "cell_type": "code",
   "outputs": [],
   "source": [
    "print(splits)"
   ],
   "metadata": {
    "collapsed": false,
    "ExecuteTime": {
     "start_time": "2024-02-26T12:38:12.721826Z"
    }
   },
   "id": "fbcebe6bc7b5fdcf",
   "execution_count": null
  },
  {
   "cell_type": "code",
   "outputs": [],
   "source": [
    "print(vocab)"
   ],
   "metadata": {
    "collapsed": false,
    "ExecuteTime": {
     "start_time": "2024-02-26T12:38:12.731595Z"
    }
   },
   "id": "7854a3ebc36fc4e3",
   "execution_count": null
  },
  {
   "cell_type": "code",
   "outputs": [],
   "source": [
    "%%sql\n"
   ],
   "metadata": {
    "collapsed": false,
    "SqlCellData": {
     "variableName$1": "df_sql"
    },
    "ExecuteTime": {
     "start_time": "2024-02-26T12:38:12.733862Z"
    }
   },
   "id": "8372dfcc944d1938"
  },
  {
   "cell_type": "code",
   "outputs": [],
   "source": [
    "vocab_set = set(vocab)"
   ],
   "metadata": {
    "collapsed": false,
    "ExecuteTime": {
     "start_time": "2024-02-26T12:38:12.746668Z"
    }
   },
   "id": "dc3f437888af4464",
   "execution_count": null
  },
  {
   "cell_type": "code",
   "outputs": [],
   "source": [
    "def tokenize(sentence):\n",
    "    n = len(sentence)\n",
    "    results = []\n",
    "    \n",
    "    result_list = [None  for _ in range(n+1) ]\n",
    "    result_list[0] = []\n",
    "    \n",
    "    has = [[False for _1 in range(n+1)] for _2 in range(n+1)]\n",
    "    for i in range(0,n+1):\n",
    "        for j in range(i+1,n+1):\n",
    "            if i > 0:\n",
    "                if vocab_set.__contains__(\"##\" + sentence[i:j]) :\n",
    "                    # print('has', \"##\" + sentence[i:j])\n",
    "                    has[i][j] = True\n",
    "            else :\n",
    "                if vocab_set.__contains__(sentence[i:j]) :\n",
    "                    # print('has', sentence[i:j])\n",
    "                    has[i][j] = True\n",
    "            # if sentence[i:j] == False :\n",
    "                # print('NOT', sentence[i:j])\n",
    "        print(has[i])        \n",
    "    \n",
    "    for i in range(1, n+1) :\n",
    "        for j in range(0, i) :\n",
    "            if result_list[j] is not None : \n",
    "                if  has[i][j] :\n",
    "                    for res in result_list[j]:\n",
    "                        res.append(sentence[j:i])\n",
    "                        if result_list[i] is not None :\n",
    "                            result_list[i].extend(res)\n",
    "                        else :\n",
    "                            result_list[i] = [res]\n",
    "    return result_list\n"
   ],
   "metadata": {
    "collapsed": false,
    "ExecuteTime": {
     "end_time": "2024-02-26T13:03:41.832171Z",
     "start_time": "2024-02-26T13:03:41.828949Z"
    }
   },
   "id": "41ed0d3ed1d7c7eb",
   "execution_count": 133
  },
  {
   "cell_type": "code",
   "outputs": [
    {
     "name": "stdout",
     "output_type": "stream",
     "text": [
      "[False, True, False, False, False, False]\n",
      "[False, False, True, False, False, False]\n",
      "[False, False, False, True, False, False]\n",
      "[False, False, False, False, True, False]\n",
      "[False, False, False, False, False, True]\n",
      "[False, False, False, False, False, False]\n"
     ]
    },
    {
     "data": {
      "text/plain": "[[], None, None, None, None, None]"
     },
     "execution_count": 134,
     "metadata": {},
     "output_type": "execute_result"
    }
   ],
   "source": [
    "tokenize('hello')"
   ],
   "metadata": {
    "collapsed": false,
    "ExecuteTime": {
     "end_time": "2024-02-26T13:03:42.088661Z",
     "start_time": "2024-02-26T13:03:42.086271Z"
    }
   },
   "id": "2878a714d25d4b56",
   "execution_count": 134
  },
  {
   "cell_type": "code",
   "outputs": [
    {
     "data": {
      "text/plain": "False"
     },
     "execution_count": 112,
     "metadata": {},
     "output_type": "execute_result"
    }
   ],
   "source": [
    "vocab_set.__contains__('hel')"
   ],
   "metadata": {
    "collapsed": false,
    "ExecuteTime": {
     "end_time": "2024-02-26T12:44:38.249615Z",
     "start_time": "2024-02-26T12:44:38.247236Z"
    }
   },
   "id": "faa54d2aee79f9ab",
   "execution_count": 112
  },
  {
   "cell_type": "code",
   "outputs": [],
   "source": [
    "# def tokenize(text):\n",
    "#     pre_tokenize_result = tokenizer._tokenizer.pre_tokenizer.pre_tokenize_str(text)\n",
    "#     pre_tokenized_text = [word for word, offset in pre_tokenize_result]\n",
    "#     splits = [[l for l in word] for word in pre_tokenized_text]\n",
    "#     for pair, merge in merges.items():\n",
    "#         for idx, split in enumerate(splits):\n",
    "#             i = 0\n",
    "#             while i < len(split) - 1:\n",
    "#                 if split[i] == pair[0] and split[i + 1] == pair[1]:\n",
    "#                     split = split[:i] + [merge] + split[i + 2 :]\n",
    "#                 else:\n",
    "#                     i += 1\n",
    "#             splits[idx] = split\n",
    "# \n",
    "#     return sum(splits, [])"
   ],
   "metadata": {
    "collapsed": false,
    "ExecuteTime": {
     "start_time": "2024-02-26T12:38:12.749208Z"
    }
   },
   "id": "bd893bb724f06ca4"
  }
 ],
 "metadata": {
  "kernelspec": {
   "display_name": "Python 3",
   "language": "python",
   "name": "python3"
  },
  "language_info": {
   "codemirror_mode": {
    "name": "ipython",
    "version": 2
   },
   "file_extension": ".py",
   "mimetype": "text/x-python",
   "name": "python",
   "nbconvert_exporter": "python",
   "pygments_lexer": "ipython2",
   "version": "2.7.6"
  }
 },
 "nbformat": 4,
 "nbformat_minor": 5
}
