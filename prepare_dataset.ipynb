{
 "cells": [
  {
   "cell_type": "code",
   "outputs": [],
   "source": [
    "import json\n",
    "import re\n",
    "import pandas as pd"
   ],
   "metadata": {
    "collapsed": false
   },
   "id": "cfe84a5d4cb014d9",
   "execution_count": null
  },
  {
   "cell_type": "code",
   "outputs": [],
   "source": [
    "def refactor(text):\n",
    "    text = text.lower()\n",
    "    notallowed = (':;\\'1234567890-+_)—(*&^%$#}{[]|\\\\/.,?\\«»\"“”')\n",
    "    for char in notallowed:\n",
    "        text = text.replace(char, '')\n",
    "    return text"
   ],
   "metadata": {
    "collapsed": false
   },
   "id": "477c29fdf42a81cc",
   "execution_count": null
  },
  {
   "cell_type": "code",
   "outputs": [],
   "source": [
    "def get_words(texts):\n",
    "    words_list = []\n",
    "    for text in texts:\n",
    "        cleaned_text = re.sub(r'\\s+', ' ', text)\n",
    "        cleaned_text = cleaned_text.strip()\n",
    "        words = cleaned_text.split()\n",
    "        words_list.extend(refactor(word) for word in words)\n",
    "    return words_list\n"
   ],
   "metadata": {
    "collapsed": false
   },
   "id": "75daae68508852ed",
   "execution_count": null
  },
  {
   "cell_type": "code",
   "outputs": [],
   "source": [
    "text_dict = dict()"
   ],
   "metadata": {
    "collapsed": false
   },
   "id": "a828abfd2d85dff6",
   "execution_count": null
  },
  {
   "cell_type": "code",
   "outputs": [],
   "source": [
    "from collections import defaultdict\n",
    "\n",
    "\n",
    "def get_words_dict(chunk_id) :\n",
    "    path = 'dataset/chunk_' + str(chunk_id) + '.json'\n",
    "    words_dict = defaultdict(int)\n",
    "    with open(path, 'r') as f:\n",
    "        data = json.load(f)\n",
    "        texts_list = []\n",
    "        for text in data['rows']:\n",
    "            item = text['row']['text']\n",
    "            texts_list.append(item)\n",
    "        words = get_words(texts_list)\n",
    "        \n",
    "        for word in words:\n",
    "            if len(word) > 0:\n",
    "                words_dict[word] += 1\n",
    "            \n",
    "    df = pd.DataFrame(list(words_dict.items()))\n",
    "    df.to_csv('prepared2/chunk_' + str(chunk_id) + '.csv', index=False)\n",
    "    return words_dict\n",
    "        \n",
    "        "
   ],
   "metadata": {
    "collapsed": false
   },
   "id": "3988b055b4a3fbf8",
   "execution_count": null
  },
  {
   "cell_type": "code",
   "outputs": [],
   "source": [
    "dict_list = []"
   ],
   "metadata": {
    "collapsed": false
   },
   "id": "871d9edf893f6c8c",
   "execution_count": null
  },
  {
   "cell_type": "code",
   "outputs": [],
   "source": [
    "import os\n",
    "import requests"
   ],
   "metadata": {
    "collapsed": false
   },
   "id": "c95abfc1fb887b5e",
   "execution_count": null
  },
  {
   "cell_type": "code",
   "outputs": [],
   "source": [
    "def remove_first_row_from_csv_files_in_directory(directory_path):\n",
    "    # Get a list of all CSV files in the specified directory\n",
    "    csv_files = [file for file in os.listdir(directory_path) if file.endswith('.csv')]\n",
    "    print(len(csv_files))\n",
    "    for file_name in csv_files:\n",
    "        print(file_name)\n",
    "        file_name = directory_path + '/' + file_name\n",
    "        df = pd.read_csv(file_name)\n",
    "        print(df.head(10))\n",
    "        df = df.iloc[1:]\n",
    "        print(df.head(10))\n",
    "        # df.to_csv(file_name, index=False)\n",
    "        break\n",
    "\n",
    "directory_path = 'prepared2/'\n",
    "remove_first_row_from_csv_files_in_directory(directory_path)\n"
   ],
   "metadata": {
    "collapsed": false
   },
   "id": "b4cda251186c8295",
   "execution_count": null
  },
  {
   "cell_type": "code",
   "outputs": [],
   "source": [
    "for i in range(6130, 6131) :  \n",
    "    print('chunk ' + str(i))\n",
    "    try:\n",
    "        dict_list.append(get_words_dict(i))\n",
    "    except Exception as e :\n",
    "        print('error', i, e)\n",
    "        # os.remove('prepared/chunk_' + str(i) + '.csv')\n",
    "        if os.path.exists('dataset/chunk_' + str(i) + '.json') :\n",
    "            os.remove('dataset/chunk_' + str(i) + '.json')\n",
    "        offset = i * 100\n",
    "        data = requests.get(f'https://datasets-server.huggingface.co/rows?dataset=tahrirchi%2Fuz-crawl&config=default&split=news&offset={offset}&length=100')\n",
    "    \n",
    "        # with open('tahrirchi-news.json', 'a') as f :\n",
    "        #     f.write(data.text)\n",
    "        with open('dataset/chunk_'+str(i)+'.json', 'a') as f :\n",
    "            f.write(data.text)\n",
    "        print(i, data.status_code)\n",
    "        \n",
    "        \n",
    "    "
   ],
   "metadata": {
    "collapsed": false
   },
   "id": "18357b9b941e89c9",
   "execution_count": null
  },
  {
   "cell_type": "code",
   "outputs": [],
   "source": [],
   "metadata": {
    "collapsed": false
   },
   "id": "39a9594c5e98e375",
   "execution_count": null
  }
 ],
 "metadata": {
  "kernelspec": {
   "display_name": "Python 3",
   "language": "python",
   "name": "python3"
  },
  "language_info": {
   "codemirror_mode": {
    "name": "ipython",
    "version": 2
   },
   "file_extension": ".py",
   "mimetype": "text/x-python",
   "name": "python",
   "nbconvert_exporter": "python",
   "pygments_lexer": "ipython2",
   "version": "2.7.6"
  }
 },
 "nbformat": 4,
 "nbformat_minor": 5
}
